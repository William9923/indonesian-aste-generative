{
 "cells": [
  {
   "cell_type": "markdown",
   "metadata": {},
   "source": [
    "**Building the annotation template spreadsheets**"
   ]
  },
  {
   "cell_type": "code",
   "execution_count": 11,
   "metadata": {},
   "outputs": [],
   "source": [
    "import os\n",
    "import csv\n",
    "import json\n",
    "\n",
    "TSV_SEPERATOR = \"\\t\"\n",
    "\n",
    "BIOTAG_SEPERATOR = \"//\"\n",
    "TOKEN_SEPERATOR = \" \"\n",
    "ANNOTATION_SEPERATOR = \"####\"\n",
    "LABEL_SEPERATOR = \", \"\n",
    "\n",
    "polarity_annotation_map = {\n",
    "    \"NT\": \"NEU\",\n",
    "    \"NG\": \"NEG\",\n",
    "    \"PO\": \"POS\",\n",
    "}"
   ]
  },
  {
   "cell_type": "code",
   "execution_count": 44,
   "metadata": {},
   "outputs": [],
   "source": [
    "def get_elmt_idx(data):\n",
    "    \"\"\"\n",
    "    Helper func to help identify the start & end idx from IOB Tagging\n",
    "    \"\"\"\n",
    "    tag = [datum.split(BIOTAG_SEPERATOR) for datum in data]\n",
    "    start_idx, end_idx, found = -1, -1, False\n",
    "    for idx, word_tag in enumerate(tag):\n",
    "        _, tag = word_tag\n",
    "        if tag == \"B\":\n",
    "            start_idx = idx\n",
    "            end_idx = idx\n",
    "            found = True\n",
    "        elif tag == \"O\" and found:\n",
    "            end_idx = idx - 1\n",
    "            break\n",
    "    return start_idx, end_idx\n",
    "\n",
    "def get_elmt_idxs(data):\n",
    "    \"\"\"\n",
    "    Helper func to help identify the start & idx for all IOB Tagging\n",
    "    \"\"\"\n",
    "    tag = [datum.split(BIOTAG_SEPERATOR) for datum in data]\n",
    "    start_idxs, end_idxs, found = [], [], False\n",
    "    for idx, word_tag in enumerate(tag):\n",
    "        _, tag = word_tag\n",
    "        if tag == \"B\":\n",
    "            start_idxs.append(idx)\n",
    "            end_idxs.append(idx)\n",
    "            found = True\n",
    "        elif tag == \"O\" and found:\n",
    "            end_idxs[-1] = idx - 1\n",
    "            found = False       \n",
    "    return start_idxs, end_idxs\n",
    "\n",
    "def get_iterate_idx(start_idx, end_idx):\n",
    "    assert start_idx <= end_idx\n",
    "    return [i for i in range(start_idx, end_idx + 1)]\n",
    "\n",
    "def parse_interim_implicit(data, valid_only=False):\n",
    "    \"\"\"\n",
    "    Wrapper to parse interrim data (json formatted) into correct annotated data for OTE-MTL framework\n",
    "    \"\"\"\n",
    "    parsed_data = []\n",
    "    for datum in data:\n",
    "        uncomplete_triplets = []\n",
    "        if valid_only and not datum.get(\"valid\"):\n",
    "            pass\n",
    "        else:\n",
    "            sents_start_idxs, sents_end_idxs = get_elmt_idxs(\n",
    "                    datum.get(\"sent_tags\").split(TOKEN_SEPERATOR)\n",
    "            )\n",
    "            # print(sents_start_idxs)\n",
    "            # print(sents_end_idxs)\n",
    "            for triplet in datum.get(\"triples\"):\n",
    "                sentiment_start_idx, sentiment_end_idx = get_elmt_idx(\n",
    "                    triplet.get(\"sent_tags\").split(TOKEN_SEPERATOR)\n",
    "                )\n",
    "                index = -1\n",
    "                for i, start_idx in enumerate(sents_start_idxs):\n",
    "                    if start_idx == sentiment_start_idx:\n",
    "                        index = i \n",
    "                        break\n",
    "                if index != -1:\n",
    "                    sents_start_idxs.pop(index)\n",
    "                    sents_end_idxs.pop(index)\n",
    "            # Reduce set...\n",
    "            assert len(sents_start_idxs) == len(sents_end_idxs)\n",
    "            for i in range(len(sents_start_idxs)):\n",
    "                uncomplete_triplets.append([sents_start_idxs[i], sents_end_idxs[i]])\n",
    "\n",
    "        sentence = datum.get(\"sentence\")\n",
    "        parsed_data.append([sentence, uncomplete_triplets])\n",
    "\n",
    "    return parsed_data"
   ]
  },
  {
   "cell_type": "code",
   "execution_count": 45,
   "metadata": {},
   "outputs": [],
   "source": [
    "RAW_DATA_DIR = \"data/raw\"\n",
    "INTERIM_DATA_FILTER_DIR = \"data/interim/filter\"\n",
    "INTERIM_DATA_UNFILTER_DIR = \"data/interim/unfilter\"\n",
    "PROCESSED_DATA_FILTER_DIR = \"data/processed/filter\"\n",
    "PROCESSED_DATA_UNFILTER_DIR = \"data/processed/unfilter\"\n",
    "\n",
    "# == Save Interim data ==\n",
    "with open(os.path.join(INTERIM_DATA_UNFILTER_DIR, \"train.json\")) as f:\n",
    "    data = json.load(f)\n",
    "    parsed_datas = parse_interim_implicit(data)"
   ]
  },
  {
   "cell_type": "code",
   "execution_count": 46,
   "metadata": {},
   "outputs": [],
   "source": [
    "# === Get Implicit Aspect Annotation ===\n",
    "import pickle\n",
    "with open(\"./data/annotation/train_skip_label.pkl\", 'rb') as f:\n",
    "    res = pickle.load(f)\n",
    "only_implicit = [parsed_datas[i] for i in range(len(parsed_datas)) if i in res]"
   ]
  },
  {
   "cell_type": "code",
   "execution_count": 47,
   "metadata": {},
   "outputs": [
    {
     "name": "stdout",
     "output_type": "stream",
     "text": [
      "Total Instance to be annotated: 1362\n"
     ]
    }
   ],
   "source": [
    "counter = 0\n",
    "for datum in parsed_datas:\n",
    "    for implicit in datum[1]:\n",
    "        counter += 1\n",
    "print(\"Total Instance to be annotated:\",counter)"
   ]
  },
  {
   "cell_type": "code",
   "execution_count": 48,
   "metadata": {},
   "outputs": [],
   "source": [
    "import pandas as pd\n",
    "\n",
    "id = []\n",
    "sents = []\n",
    "sentiments_exp = []\n",
    "polarity = []\n",
    "labels = []\n",
    "target_repr = []\n",
    "triplets = []\n",
    "\n",
    "for i in range(len(parsed_datas)):\n",
    "    if i in res:\n",
    "        continue\n",
    "    for j in range(len(parsed_datas[i][1])):\n",
    "        id.append(i)\n",
    "        sents.append(parsed_datas[i][0])\n",
    "        start, end = parsed_datas[i][1][j][0], parsed_datas[i][1][j][1]\n",
    "        sentiments_exp.append(TOKEN_SEPERATOR.join(parsed_datas[i][0].split(TOKEN_SEPERATOR)[start:end+1]))\n",
    "        labels.append(f\"([-1], {get_iterate_idx(start, end)}, \")\n",
    "        polarity.append(\"-\")\n",
    "        triplets.append(\"-\")\n",
    "        target_repr.append(f\"(hotel, {sentiments_exp[-1]}, \")\n",
    "\n",
    "df = pd.DataFrame({\n",
    "    \"id\": id,\n",
    "    \"sents\": sents,\n",
    "    \"expr\": sentiments_exp,\n",
    "    \"polarity\": polarity,\n",
    "    \"labels\": labels,\n",
    "    \"target_repr\": target_repr,\n",
    "})"
   ]
  },
  {
   "cell_type": "code",
   "execution_count": 49,
   "metadata": {},
   "outputs": [],
   "source": [
    "df.to_csv(\"annotation-implicit-train-template.csv\", index=False)"
   ]
  },
  {
   "cell_type": "markdown",
   "metadata": {},
   "source": [
    "**Aggregating implicit aspect into current data**"
   ]
  },
  {
   "cell_type": "code",
   "execution_count": 58,
   "metadata": {},
   "outputs": [
    {
     "name": "stdout",
     "output_type": "stream",
     "text": [
      "<class 'pandas.core.frame.DataFrame'>\n",
      "RangeIndex: 5 entries, 0 to 4\n",
      "Data columns (total 9 columns):\n",
      " #   Column                 Non-Null Count  Dtype \n",
      "---  ------                 --------------  ----- \n",
      " 0   id                     5 non-null      int64 \n",
      " 1   sents                  5 non-null      object\n",
      " 2   expr                   5 non-null      object\n",
      " 3   polarity               5 non-null      object\n",
      " 4   labels                 5 non-null      object\n",
      " 5   target_repr            5 non-null      object\n",
      " 6   completed_labels       5 non-null      object\n",
      " 7   completed_target_repr  5 non-null      object\n",
      " 8   checkpoint             5 non-null      bool  \n",
      "dtypes: bool(1), int64(1), object(7)\n",
      "memory usage: 453.0+ bytes\n"
     ]
    }
   ],
   "source": [
    "data = pd.read_csv(\"annotation-implicit-example.csv\")\n",
    "data.info()"
   ]
  },
  {
   "cell_type": "code",
   "execution_count": 59,
   "metadata": {},
   "outputs": [
    {
     "data": {
      "text/plain": [
       "5"
      ]
     },
     "execution_count": 59,
     "metadata": {},
     "output_type": "execute_result"
    }
   ],
   "source": [
    "len(data.id.unique())"
   ]
  },
  {
   "cell_type": "code",
   "execution_count": 51,
   "metadata": {},
   "outputs": [],
   "source": [
    "# == Build Hash Map for each index ==\n",
    "ids = data.id.unique()\n",
    "memory = dict()\n",
    "for id in ids:\n",
    "    labels = data.loc[(data.id == id) & (data.checkpoint)].completed_labels.values\n",
    "    memory[id] = list(labels) "
   ]
  },
  {
   "cell_type": "code",
   "execution_count": 53,
   "metadata": {},
   "outputs": [],
   "source": [
    "def combine(triplets_left, triplets_right):\n",
    "    triplets = []\n",
    "    for triplet in triplets_left:\n",
    "        triplets.append(triplet)\n",
    "    for triplet in triplets_right:\n",
    "        triplets.append(triplet)\n",
    "    return triplets \n",
    "\n",
    "def parse_interim_combined(data, memory, valid_only=False):\n",
    "    \"\"\"\n",
    "    Wrapper to parse interrim data (json formatted) into correct annotated data for OTE-MTL framework\n",
    "    \"\"\"\n",
    "    parsed_data = []\n",
    "    for i, datum in enumerate(data):\n",
    "        triplets = []\n",
    "        if valid_only and not datum.get(\"valid\"):\n",
    "            pass\n",
    "        else:\n",
    "            for triplet in datum.get(\"triples\"):\n",
    "                aspect_start_idx, aspect_end_idx = get_elmt_idx(\n",
    "                    triplet.get(\"aspect_tags\").split(TOKEN_SEPERATOR)\n",
    "                )\n",
    "\n",
    "                sentiment_start_idx, sentiment_end_idx = get_elmt_idx(\n",
    "                    triplet.get(\"sent_tags\").split(TOKEN_SEPERATOR)\n",
    "                )\n",
    "\n",
    "                polarity = triplet.get(\"polarity\")\n",
    "                triplets.append(\n",
    "                    str(\n",
    "                        (\n",
    "                            get_iterate_idx(aspect_start_idx, aspect_end_idx),\n",
    "                            get_iterate_idx(sentiment_start_idx, sentiment_end_idx),\n",
    "                            polarity_annotation_map.get(polarity),\n",
    "                        )\n",
    "                    )\n",
    "                )\n",
    "        sentence = datum.get(\"sentence\")\n",
    "        if i in memory:\n",
    "            triplets = combine(triplets, memory[i])\n",
    "        parsed_data.append([sentence, triplets])\n",
    "    return parsed_data"
   ]
  },
  {
   "cell_type": "code",
   "execution_count": 54,
   "metadata": {},
   "outputs": [],
   "source": [
    "# == Save Interim data ==\n",
    "with open(os.path.join(INTERIM_DATA_UNFILTER_DIR, \"test.json\")) as f:\n",
    "    data = json.load(f)\n",
    "    parsed_datas = parse_interim_combined(data, memory)"
   ]
  },
  {
   "cell_type": "code",
   "execution_count": null,
   "metadata": {},
   "outputs": [],
   "source": []
  }
 ],
 "metadata": {
  "interpreter": {
   "hash": "57d0841d9d8ef972206d78053f97444acc7de5d086b92822aafef1aeee897422"
  },
  "kernelspec": {
   "display_name": "Python 3.9.0 ('venv': venv)",
   "language": "python",
   "name": "python3"
  },
  "language_info": {
   "codemirror_mode": {
    "name": "ipython",
    "version": 3
   },
   "file_extension": ".py",
   "mimetype": "text/x-python",
   "name": "python",
   "nbconvert_exporter": "python",
   "pygments_lexer": "ipython3",
   "version": "3.9.0"
  },
  "orig_nbformat": 4
 },
 "nbformat": 4,
 "nbformat_minor": 2
}
