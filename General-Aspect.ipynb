{
 "cells": [
  {
   "cell_type": "markdown",
   "metadata": {},
   "source": [
    "**Finding statistically top 5 aspect to be used as general aspects**"
   ]
  },
  {
   "cell_type": "markdown",
   "metadata": {},
   "source": []
  },
  {
   "cell_type": "code",
   "execution_count": 3,
   "metadata": {},
   "outputs": [
    {
     "name": "stdout",
     "output_type": "stream",
     "text": [
      "Tokenizer type: Wikidepia/IndoT5-base\n",
      "implicit\n"
     ]
    }
   ],
   "source": [
    "import os\n",
    "import csv\n",
    "from pprint import pprint\n",
    "import time\n",
    "\n",
    "from transformers import T5ForConditionalGeneration, T5Tokenizer\n",
    "\n",
    "from args import init_args\n",
    "from src.postprocess import (\n",
    "    IPostprocess,\n",
    "    EditDistancePostProcessor,\n",
    "    EmbeddingDistancePostProcessor,\n",
    ")\n",
    "from src.loader import ILoader, HotelLoader\n",
    "from src.utility import get_config, set_seed\n",
    "from src.constant import Path, ModelType, PostprocessType, ProcessType\n",
    "from src.trainer import ITrainer, T5Trainer\n",
    "from src.generator import IGenerator, T5Generator\n",
    "from src.evaluation import Evaluator\n",
    "\n",
    "from src.loader import ILoader, HotelLoader\n",
    "\n",
    "# == Dependencies Maps (Factory) ==\n",
    "trainer_config_maps = {ModelType.T5Model: T5Trainer}\n",
    "\n",
    "tokenizer_config_names = {ModelType.T5Model: T5Tokenizer}\n",
    "\n",
    "generator_config_names = {ModelType.T5Model: T5Generator}\n",
    "\n",
    "postprocess_config_names = {\n",
    "    PostprocessType.EDITDISTANCE: EditDistancePostProcessor,\n",
    "    PostprocessType.EMBEDDING: EmbeddingDistancePostProcessor,\n",
    "}\n",
    "\n",
    "\n",
    "config_path = \"resources/exp-v3/exp-m0.yaml\"\n",
    "configs = get_config(config_path)\n",
    "set_seed(configs[\"main\"][\"seed\"])\n",
    "\n",
    "mode = configs.get(\"main\").get(\"mode\")\n",
    "\n",
    "model_type = configs.get(\"type\")\n",
    "model_name = configs.get(\"main\").get(\"pretrained\")\n",
    "use_checkpoint = configs.get(\"trainer\").get(\"use_checkpoint\")\n",
    "if use_checkpoint:\n",
    "    model_name = configs.get(\"trainer\").get(\"checkpoint_path\")\n",
    "print(f\"Tokenizer type: {model_name}\")\n",
    "tokenizer = tokenizer_config_names.get(model_type).from_pretrained(model_name)\n",
    "\n",
    "# 2. Preparing Dataset ...\n",
    "loader: ILoader = HotelLoader(tokenizer, configs)\n",
    "\n",
    "train_loader, val_loader = loader.get_train_loader(), loader.get_val_loader()\n",
    "train_dataset, val_dataset = loader.get_train_dataset(), loader.get_val_dataset()\n",
    "train_sents, val_sents = train_dataset.get_sents(), val_dataset.get_sents()\n",
    "\n",
    "test_loader = loader.get_test_loader()\n",
    "test_dataset = loader.get_test_dataset()\n",
    "test_sents = test_dataset.get_sents()"
   ]
  },
  {
   "cell_type": "code",
   "execution_count": 6,
   "metadata": {},
   "outputs": [
    {
     "data": {
      "text/plain": [
       "['(ac, tidak berfungsi optimal, negatif); (wifi koneksi, kurang stabil, negatif)',\n",
       " '(tempatnya, bagus, positif); (kolam renangnya, bersih, positif)',\n",
       " '(ac nya, tidak bisa diatur, negatif)',\n",
       " '(pintu geser, kurang rapat, negatif)',\n",
       " '(semuanya, nyaman, positif)',\n",
       " '(snack, tidak dapat, negatif)',\n",
       " '(pelayanan, lumayan baik, positif)',\n",
       " '(overall, bagus, positif)',\n",
       " '(pelayanan mas nya, sangat baik, positif); (pelayanan mas nya, membantu, positif); (pelayanan mas nya, ramah, positif); (pelayanan mas nya, komunikatif, positif); (kamar, sangat bersih, positif); (kamar mandi, sangat baik, positif); (air panasnya, tidak bisa lama, negatif)',\n",
       " '(layanan, sangat mengecewakan, negatif); (kebersihan kamar, sangat mengecewakan, negatif)']"
      ]
     },
     "execution_count": 6,
     "metadata": {},
     "output_type": "execute_result"
    }
   ],
   "source": [
    "labels[:10]"
   ]
  },
  {
   "cell_type": "code",
   "execution_count": 8,
   "metadata": {},
   "outputs": [],
   "source": [
    "labels = train_dataset.extracted_labels\n",
    "aspects = []\n",
    "\n",
    "EMPTY = ''\n",
    "def extract(sequence):\n",
    "    extractions = []\n",
    "    triplets = sequence.split(\"; \")\n",
    "    for elem in triplets:\n",
    "        elem = elem[1:-1] # Remove the in the start \"(\"  and at the end \")\".\n",
    "        try:\n",
    "            a, b, c = elem.split(', ')\n",
    "        except ValueError:\n",
    "            a, b, c = '', '', ''\n",
    "        \n",
    "        a = a.strip()\n",
    "        b = b.strip()\n",
    "        c = c.strip()\n",
    "        # Postprocess...\n",
    "        if (a == EMPTY or b == EMPTY or c == EMPTY) or (a,b,c) in extractions:\n",
    "            continue\n",
    "        extractions.append((a, b, c)) \n",
    "    return extractions\n",
    "\n",
    "for datum in labels:\n",
    "    triplets = extract(datum)\n",
    "    for triplet in triplets:\n",
    "        aspects.append(triplet[0])"
   ]
  },
  {
   "cell_type": "code",
   "execution_count": 10,
   "metadata": {},
   "outputs": [
    {
     "name": "stdout",
     "output_type": "stream",
     "text": [
      " [('kamar', 757), ('pelayanan', 336), ('kamarnya', 282), ('ac', 186), ('kamar mandi', 175), ('tempatnya', 169), ('tempat', 141), ('harga', 121), ('wifi', 120), ('lokasi', 105)]\n"
     ]
    }
   ],
   "source": [
    "# Get Top 5 most common aspects expr as general aspect\n",
    "from collections import Counter\n",
    "c = Counter(aspects)\n",
    "c.most_common(10)\n",
    "print (\"\",c.most_common(10))\n",
    "\n",
    "# Picked general aspect:\n",
    "# - general\n",
    "# - kamar\n",
    "# - pelayanan\n",
    "# - kamarnya\n",
    "# - tempat\n",
    "# - hotel"
   ]
  },
  {
   "cell_type": "code",
   "execution_count": null,
   "metadata": {},
   "outputs": [],
   "source": []
  }
 ],
 "metadata": {
  "interpreter": {
   "hash": "57d0841d9d8ef972206d78053f97444acc7de5d086b92822aafef1aeee897422"
  },
  "kernelspec": {
   "display_name": "Python 3.9.0 ('venv': venv)",
   "language": "python",
   "name": "python3"
  },
  "language_info": {
   "codemirror_mode": {
    "name": "ipython",
    "version": 3
   },
   "file_extension": ".py",
   "mimetype": "text/x-python",
   "name": "python",
   "nbconvert_exporter": "python",
   "pygments_lexer": "ipython3",
   "version": "3.9.0"
  },
  "orig_nbformat": 4
 },
 "nbformat": 4,
 "nbformat_minor": 2
}
